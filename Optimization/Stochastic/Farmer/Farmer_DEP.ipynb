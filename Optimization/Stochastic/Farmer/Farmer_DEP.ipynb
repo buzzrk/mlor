{
 "cells": [
  {
   "cell_type": "markdown",
   "metadata": {},
   "source": [
    "# Farmer Problem - Planting crops - Handle Uncertainity in Yield \n"
   ]
  },
  {
   "cell_type": "code",
   "execution_count": 106,
   "metadata": {},
   "outputs": [],
   "source": [
    "from pulp import *"
   ]
  },
  {
   "cell_type": "code",
   "execution_count": 107,
   "metadata": {},
   "outputs": [],
   "source": [
    "# To show nice looking table of solution\n",
    "from IPython.display import HTML, display\n",
    "\n",
    "def display_table(data):\n",
    "    html = \"<table>\"\n",
    "    for row in data:\n",
    "        html += \"<tr>\"\n",
    "        for field in row:\n",
    "            html += \"<td><h4>%s</h4><td>\"%(field)\n",
    "        html += \"</tr>\"\n",
    "    html += \"</table>\"\n",
    "    display(HTML(html))"
   ]
  },
  {
   "cell_type": "markdown",
   "metadata": {},
   "source": [
    "# Business Problem"
   ]
  },
  {
   "cell_type": "markdown",
   "metadata": {},
   "source": [
    "### Total acerage = 500\n",
    "\n",
    "|Field|Wheat|Corn|Beans|\n",
    "|-----|-------|------|----------|\n",
    "|Yield T/acre|2.5|3|20|\n",
    "|Planting cost $/acre|150|230|260|\n",
    "|Selling price|170|150|36 (<6000) 10 (>6000)|\n",
    "|Purchase price|238|210|NA|\n",
    "|Farm Needs|200|240|NA|\n"
   ]
  },
  {
   "cell_type": "markdown",
   "metadata": {},
   "source": [
    "## Yields vary based on weather\n",
    "\n",
    "Prob|Yield|Wheat|Corn|Beans|\n",
    "----|-----|-------|------|----------|\n",
    "0.333|Bad |2|2.4|16|\n",
    "0.333|Average|2.5|3|20|\n",
    "0.333|Good|3|3.6|24|"
   ]
  },
  {
   "cell_type": "markdown",
   "metadata": {},
   "source": [
    "## Start defining data needed for problem"
   ]
  },
  {
   "cell_type": "code",
   "execution_count": 108,
   "metadata": {},
   "outputs": [],
   "source": [
    "items = [\"Wheat\", \"Corn\",\"Beans\"]\n",
    "purchasable_items = [\"Wheat\", \"Corn\"]\n",
    "total_acres = 500"
   ]
  },
  {
   "cell_type": "markdown",
   "metadata": {},
   "source": [
    "### Define yields - we do not have to pick one yield - we will consider them all simultaneously"
   ]
  },
  {
   "cell_type": "code",
   "execution_count": 109,
   "metadata": {},
   "outputs": [],
   "source": [
    "yields = {\"BAD\": {\"Wheat\":2,\"Corn\":2.4,\"Beans\":16}, \n",
    "          \"AVERAGE\" : {\"Wheat\":2.5,\"Corn\":3,\"Beans\":20},\n",
    "          \"GOOD\": {\"Wheat\":3,\"Corn\":3.6,\"Beans\":24}}"
   ]
  },
  {
   "cell_type": "markdown",
   "metadata": {},
   "source": [
    "### Define Planting Costs and Market purchase prices"
   ]
  },
  {
   "cell_type": "code",
   "execution_count": 110,
   "metadata": {},
   "outputs": [],
   "source": [
    "planting_costs = {\"Wheat\":150,\"Corn\":230,\"Beans\":260}\n",
    "purchase_prices = {\"Wheat\":238,\"Corn\":210,\"Beans\":999}"
   ]
  },
  {
   "cell_type": "markdown",
   "metadata": {},
   "source": [
    "### Define consumption rules"
   ]
  },
  {
   "cell_type": "code",
   "execution_count": 111,
   "metadata": {},
   "outputs": [],
   "source": [
    "consumption_feed={\"Wheat\":200,\"Corn\":240,\"Beans\":0}          "
   ]
  },
  {
   "cell_type": "markdown",
   "metadata": {},
   "source": [
    "### Define selling prices - note the price difference for beans excess of 6000"
   ]
  },
  {
   "cell_type": "code",
   "execution_count": 112,
   "metadata": {},
   "outputs": [],
   "source": [
    "selling_prices = {\"Wheat\":170,\"Corn\":150,\"Beans\":36}\n",
    "selling_price_excess_beans = 10 "
   ]
  },
  {
   "cell_type": "markdown",
   "metadata": {},
   "source": [
    "## We have to provide this to our model unlike our mean value problem where we picked only one scenario"
   ]
  },
  {
   "cell_type": "code",
   "execution_count": 113,
   "metadata": {},
   "outputs": [],
   "source": [
    "scenario_p = {\"BAD\":0.333333333, \"AVERAGE\":0.333333333, \"GOOD\":0.333333333}"
   ]
  },
  {
   "cell_type": "markdown",
   "metadata": {},
   "source": [
    "## Numbers that will help us understand tradeoffs"
   ]
  },
  {
   "cell_type": "code",
   "execution_count": 114,
   "metadata": {},
   "outputs": [],
   "source": [
    "M = LpProblem(\"Farmer\", LpMaximize)"
   ]
  },
  {
   "cell_type": "markdown",
   "metadata": {},
   "source": [
    "# Define Variables"
   ]
  },
  {
   "cell_type": "markdown",
   "metadata": {},
   "source": [
    "## First Stage - same as simple Mean value Linear Program"
   ]
  },
  {
   "cell_type": "code",
   "execution_count": 115,
   "metadata": {},
   "outputs": [],
   "source": [
    "#Same variables as mean value problem\n",
    "var_acres_planted = LpVariable.dicts(\"plant_acres\", items, lowBound=0, cat='Continuous')"
   ]
  },
  {
   "cell_type": "markdown",
   "metadata": {},
   "source": [
    "## Second stage will have variables for each scenario"
   ]
  },
  {
   "cell_type": "code",
   "execution_count": 116,
   "metadata": {},
   "outputs": [],
   "source": [
    "var_tons_purchased_by_scenario = {}\n",
    "var_tons_sold_by_scenario = {}\n",
    "var_excess_beans_sold_by_scenario = {}\n",
    "\n",
    "scenario_keys = list(scenario_p.keys())\n",
    "\n",
    "for scenario_name in scenario_keys:\n",
    "    var_tons_purchased_by_scenario[scenario_name] = LpVariable.dicts(scenario_name+\"_purchase_tons\", purchasable_items,lowBound=0,cat='Continuous') #no purchaefor beans\n",
    "    var_tons_sold_by_scenario[scenario_name] = LpVariable.dicts(scenario_name+\"_sell_tons\", items,lowBound=0,cat='Continuous')\n",
    "    var_excess_beans_sold_by_scenario[scenario_name] = LpVariable(scenario_name+'_sell_tons_extra_beans', lowBound=0,cat='Continuous')\n"
   ]
  },
  {
   "cell_type": "markdown",
   "metadata": {},
   "source": [
    "# Define Objective"
   ]
  },
  {
   "cell_type": "markdown",
   "metadata": {},
   "source": [
    "## Planting costs are summation over each item\n",
    "## Selling revenue and buying costs are summation over each item and each scenario"
   ]
  },
  {
   "cell_type": "code",
   "execution_count": 117,
   "metadata": {},
   "outputs": [],
   "source": [
    "M += lpSum(    [ -1*planting_costs[item] * var_acres_planted[item] for item in items ]   \n",
    "           + [ -1* scenario_p[s] * purchase_prices[item] * var_tons_purchased_by_scenario[s][item] for item in purchasable_items for s in scenario_keys]\n",
    "+ [ -1* scenario_p[s] * -1*selling_prices[item] * var_tons_sold_by_scenario[s][item] for item in items for s in scenario_keys]     \n",
    "          + [scenario_p[s] * selling_price_excess_beans * var_excess_beans_sold_by_scenario[s] for s in scenario_keys] )\n"
   ]
  },
  {
   "cell_type": "markdown",
   "metadata": {},
   "source": [
    "# Constraints"
   ]
  },
  {
   "cell_type": "code",
   "execution_count": 118,
   "metadata": {},
   "outputs": [],
   "source": [
    "M += lpSum([var_acres_planted[i] for i in items]) <= total_acres\n",
    "\n",
    "for s in scenario_keys:\n",
    "#Corn, Wheat\n",
    "    for item in purchasable_items:\n",
    "        M += lpSum([yields[s][item]*var_acres_planted[item]] + [var_tons_purchased_by_scenario[s][item]] + [-1*var_tons_sold_by_scenario[s][item]]) == consumption_feed[item]\n",
    "#Beans\n",
    "    for item in list(set(items)-set(purchasable_items)):  #beans - constraint needs one more variable var_excess_beans_sold\n",
    "        M += lpSum([yields[s][item]*var_acres_planted[item]] + [-1*var_tons_sold_by_scenario[s][item]] + [-1*var_excess_beans_sold_by_scenario[s]]) == consumption_feed[item]\n",
    "        M += lpSum([var_tons_sold_by_scenario[s][\"Beans\"]]) <= 6000\n",
    "    \n",
    "                        \n",
    "     "
   ]
  },
  {
   "cell_type": "code",
   "execution_count": 119,
   "metadata": {},
   "outputs": [
    {
     "data": {
      "text/plain": [
       "'\\nM += lpSum([var_acres_planted[\"Wheat\"]]) == 100\\nM += lpSum([var_acres_planted[\"Corn\"]]) == 25\\nM += lpSum([var_acres_planted[\"Beans\"]]) == 375\\n'"
      ]
     },
     "execution_count": 119,
     "metadata": {},
     "output_type": "execute_result"
    }
   ],
   "source": [
    "#Be careful - these are meant to set acres for crops and evaluate profit\n",
    "# The model no longer has freedom to make decisions\n",
    "\"\"\"\n",
    "M += lpSum([var_acres_planted[\"Wheat\"]]) == 100\n",
    "M += lpSum([var_acres_planted[\"Corn\"]]) == 25\n",
    "M += lpSum([var_acres_planted[\"Beans\"]]) == 375\n",
    "\"\"\""
   ]
  },
  {
   "cell_type": "code",
   "execution_count": 120,
   "metadata": {},
   "outputs": [
    {
     "data": {
      "text/plain": [
       "[AVERAGE_purchase_tons_Corn,\n",
       " AVERAGE_purchase_tons_Wheat,\n",
       " AVERAGE_sell_tons_Beans,\n",
       " AVERAGE_sell_tons_Corn,\n",
       " AVERAGE_sell_tons_Wheat,\n",
       " AVERAGE_sell_tons_extra_beans,\n",
       " BAD_purchase_tons_Corn,\n",
       " BAD_purchase_tons_Wheat,\n",
       " BAD_sell_tons_Beans,\n",
       " BAD_sell_tons_Corn,\n",
       " BAD_sell_tons_Wheat,\n",
       " BAD_sell_tons_extra_beans,\n",
       " GOOD_purchase_tons_Corn,\n",
       " GOOD_purchase_tons_Wheat,\n",
       " GOOD_sell_tons_Beans,\n",
       " GOOD_sell_tons_Corn,\n",
       " GOOD_sell_tons_Wheat,\n",
       " GOOD_sell_tons_extra_beans,\n",
       " plant_acres_Beans,\n",
       " plant_acres_Corn,\n",
       " plant_acres_Wheat]"
      ]
     },
     "execution_count": 120,
     "metadata": {},
     "output_type": "execute_result"
    }
   ],
   "source": [
    "M.writeLP(\"Farmer_DEP.lp\")"
   ]
  },
  {
   "cell_type": "code",
   "execution_count": 121,
   "metadata": {},
   "outputs": [
    {
     "name": "stdout",
     "output_type": "stream",
     "text": [
      "Status = Optimal\n",
      "Profit = 108389.999783\n"
     ]
    }
   ],
   "source": [
    "M.solve()\n",
    "print(\"Status = %s\" % LpStatus[M.status])\n",
    "print(\"Profit = %f\" % (M.objective.value()))\n",
    "\n",
    "stochastic_solution_EV = M.objective.value()"
   ]
  },
  {
   "cell_type": "markdown",
   "metadata": {},
   "source": [
    "## Performance of this solution on the three scenarios are shown below"
   ]
  },
  {
   "cell_type": "code",
   "execution_count": 122,
   "metadata": {},
   "outputs": [
    {
     "data": {
      "text/html": [
       "<table><tr><td><h4>BAD Yield</h4><td></tr><tr><td><h4>Item</h4><td><td><h4>Planted</h4><td><td><h4>Produced</h4><td><td><h4>Purchased</h4><td><td><h4>Sold</h4><td><td><h4>Revenue</h4><td><td><h4>Plant Cost</h4><td><td><h4>Purchase Cost</h4><td><td><h4>Profit</h4><td></tr><tr><td><h4>Wheat</h4><td><td><h4>170.0</h4><td><td><h4>340.0</h4><td><td><h4>0.0</h4><td><td><h4>140.0</h4><td><td><h4>23800.0</h4><td><td><h4>25500.0</h4><td><td><h4>0.0</h4><td><td><h4>-1700.0</h4><td></tr><tr><td><h4>Corn</h4><td><td><h4>80.0</h4><td><td><h4>192.0</h4><td><td><h4>48.0</h4><td><td><h4>0.0</h4><td><td><h4>0.0</h4><td><td><h4>18400.0</h4><td><td><h4>10080.0</h4><td><td><h4>-28480.0</h4><td></tr><tr><td><h4>Beans</h4><td><td><h4>250.0</h4><td><td><h4>4000.0</h4><td><td><h4>0.0</h4><td><td><h4>4000.0</h4><td><td><h4>144000.0</h4><td><td><h4>65000.0</h4><td><td><h4>0.0</h4><td><td><h4>79000.0</h4><td></tr><tr><td><h4></h4><td><td><h4></h4><td><td><h4></h4><td><td><h4></h4><td><td><h4></h4><td><td><h4></h4><td><td><h4></h4><td><td><h4></h4><td><td><h4></h4><td></tr><tr><td><h4>Total</h4><td><td><h4>-</h4><td><td><h4>500.0</h4><td><td><h4></h4><td><td><h4></h4><td><td><h4>167800.0</h4><td><td><h4></h4><td><td><h4></h4><td><td><h4>48820.0</h4><td></tr><tr><td><h4></h4><td><td><h4></h4><td><td><h4></h4><td><td><h4></h4><td><td><h4></h4><td><td><h4></h4><td><td><h4></h4><td><td><h4></h4><td><td><h4></h4><td></tr></table>"
      ],
      "text/plain": [
       "<IPython.core.display.HTML object>"
      ]
     },
     "metadata": {},
     "output_type": "display_data"
    },
    {
     "data": {
      "text/html": [
       "<table><tr><td><h4>AVERAGE Yield</h4><td></tr><tr><td><h4>Item</h4><td><td><h4>Planted</h4><td><td><h4>Produced</h4><td><td><h4>Purchased</h4><td><td><h4>Sold</h4><td><td><h4>Revenue</h4><td><td><h4>Plant Cost</h4><td><td><h4>Purchase Cost</h4><td><td><h4>Profit</h4><td></tr><tr><td><h4>Wheat</h4><td><td><h4>170.0</h4><td><td><h4>425.0</h4><td><td><h4>0.0</h4><td><td><h4>225.0</h4><td><td><h4>38250.0</h4><td><td><h4>25500.0</h4><td><td><h4>0.0</h4><td><td><h4>12750.0</h4><td></tr><tr><td><h4>Corn</h4><td><td><h4>80.0</h4><td><td><h4>240.0</h4><td><td><h4>0.0</h4><td><td><h4>0.0</h4><td><td><h4>0.0</h4><td><td><h4>18400.0</h4><td><td><h4>0.0</h4><td><td><h4>-18400.0</h4><td></tr><tr><td><h4>Beans</h4><td><td><h4>250.0</h4><td><td><h4>5000.0</h4><td><td><h4>0.0</h4><td><td><h4>5000.0</h4><td><td><h4>180000.0</h4><td><td><h4>65000.0</h4><td><td><h4>0.0</h4><td><td><h4>115000.0</h4><td></tr><tr><td><h4></h4><td><td><h4></h4><td><td><h4></h4><td><td><h4></h4><td><td><h4></h4><td><td><h4></h4><td><td><h4></h4><td><td><h4></h4><td><td><h4></h4><td></tr><tr><td><h4>Total</h4><td><td><h4>-</h4><td><td><h4>500.0</h4><td><td><h4></h4><td><td><h4></h4><td><td><h4>218250.0</h4><td><td><h4></h4><td><td><h4></h4><td><td><h4>109350.0</h4><td></tr><tr><td><h4></h4><td><td><h4></h4><td><td><h4></h4><td><td><h4></h4><td><td><h4></h4><td><td><h4></h4><td><td><h4></h4><td><td><h4></h4><td><td><h4></h4><td></tr></table>"
      ],
      "text/plain": [
       "<IPython.core.display.HTML object>"
      ]
     },
     "metadata": {},
     "output_type": "display_data"
    },
    {
     "data": {
      "text/html": [
       "<table><tr><td><h4>GOOD Yield</h4><td></tr><tr><td><h4>Item</h4><td><td><h4>Planted</h4><td><td><h4>Produced</h4><td><td><h4>Purchased</h4><td><td><h4>Sold</h4><td><td><h4>Revenue</h4><td><td><h4>Plant Cost</h4><td><td><h4>Purchase Cost</h4><td><td><h4>Profit</h4><td></tr><tr><td><h4>Wheat</h4><td><td><h4>170.0</h4><td><td><h4>510.0</h4><td><td><h4>0.0</h4><td><td><h4>310.0</h4><td><td><h4>52700.0</h4><td><td><h4>25500.0</h4><td><td><h4>0.0</h4><td><td><h4>27200.0</h4><td></tr><tr><td><h4>Corn</h4><td><td><h4>80.0</h4><td><td><h4>288.0</h4><td><td><h4>0.0</h4><td><td><h4>48.0</h4><td><td><h4>7200.0</h4><td><td><h4>18400.0</h4><td><td><h4>0.0</h4><td><td><h4>-11200.0</h4><td></tr><tr><td><h4>Beans</h4><td><td><h4>250.0</h4><td><td><h4>6000.0</h4><td><td><h4>0.0</h4><td><td><h4>6000.0</h4><td><td><h4>216000.0</h4><td><td><h4>65000.0</h4><td><td><h4>0.0</h4><td><td><h4>151000.0</h4><td></tr><tr><td><h4></h4><td><td><h4></h4><td><td><h4></h4><td><td><h4></h4><td><td><h4></h4><td><td><h4></h4><td><td><h4></h4><td><td><h4></h4><td><td><h4></h4><td></tr><tr><td><h4>Total</h4><td><td><h4>-</h4><td><td><h4>500.0</h4><td><td><h4></h4><td><td><h4></h4><td><td><h4>275900.0</h4><td><td><h4></h4><td><td><h4></h4><td><td><h4>167000.0</h4><td></tr><tr><td><h4></h4><td><td><h4></h4><td><td><h4></h4><td><td><h4></h4><td><td><h4></h4><td><td><h4></h4><td><td><h4></h4><td><td><h4></h4><td><td><h4></h4><td></tr></table>"
      ],
      "text/plain": [
       "<IPython.core.display.HTML object>"
      ]
     },
     "metadata": {},
     "output_type": "display_data"
    }
   ],
   "source": [
    "for s in scenario_keys:\n",
    "    t = []\n",
    "    Total_Planted = 0\n",
    "    Total_Revenue = 0\n",
    "    Total_Profit = 0\n",
    "    t.append([s + \" Yield\"])\n",
    "    t.append([\"Item\",\"Planted\",\"Produced\", \"Purchased\", \"Sold\",\"Revenue\",\"Plant Cost\",\"Purchase Cost\",\"Profit\"])    \n",
    "    for item in items:\n",
    "        purchased = 0.0\n",
    "        if item in purchasable_items:\n",
    "            purchased = var_tons_purchased_by_scenario[s][item].varValue\n",
    "\n",
    "        planted = var_acres_planted[item].varValue\n",
    "        planting_cost = planted* planting_costs[item]\n",
    "        produced = yields[s][item] * var_acres_planted[item].varValue\n",
    "        sold = var_tons_sold_by_scenario[s][item].varValue\n",
    "        revenue = selling_prices[item]*sold\n",
    "        if item==\"Beans\":\n",
    "            sold += var_excess_beans_sold_by_scenario[s].varValue\n",
    "            revenue += selling_price_excess_beans*var_excess_beans_sold_by_scenario[s].varValue\n",
    "        purchase_cost = purchase_prices[item]*purchased\n",
    "        profit = revenue - planting_cost - purchase_cost\n",
    "\n",
    "\n",
    "        t.append([item, planted, produced, purchased, sold, revenue, planting_cost, purchase_cost, profit])\n",
    "        Total_Planted += planted\n",
    "        Total_Revenue += revenue\n",
    "        Total_Profit += profit\n",
    "\n",
    "    t.append([\"\",\"\",\"\", \"\", \"\",\"\",\"\",\"\",\"\"])    \n",
    "\n",
    "    t.append([\"Total\",\"-\",Total_Planted, \"\", \"\",Total_Revenue,\"\",\"\",Total_Profit])\n",
    "    t.append([\"\",\"\",\"\", \"\", \"\",\"\",\"\",\"\",\"\"])\n",
    "\n",
    "\n",
    "    display_table(t)"
   ]
  },
  {
   "cell_type": "markdown",
   "metadata": {},
   "source": [
    "# EVPI = Expected Value of Perfect Information\n",
    "## EVPI = p(s) * (EV for Perfect decision for each scenario) - Stochastic Solution\n",
    "### 1/3(59950+118600+167667) - 108390= 7016\n",
    "### We can pay weather forecaster/Oracle/Machine learning expert 7k and break even if they can give us perfect information "
   ]
  },
  {
   "cell_type": "markdown",
   "metadata": {},
   "source": [
    "# VSS = Value of Stochastic Solution\n",
    "## VSS = EV of DEP - EV of using Mean value solution\n",
    "\n",
    "\n",
    "### Method1 : We can just take mean value solution and find optimal recourse and profit solving three scenarios and get expected value of three solution \n",
    "### Use the mean value solution and get expected profit over each scenario\n",
    "### EV of mean value Solution = (55120+118600+148000)/3= 107240\n",
    "\n",
    "\n",
    "### Method 2: We can also solve this by solving DEP formulation but \"here and now decisions\" fixed to mean  value solution\n",
    "\n"
   ]
  },
  {
   "cell_type": "code",
   "execution_count": 123,
   "metadata": {},
   "outputs": [],
   "source": [
    "#This is a trick tyo compute EV of any solution by usign our DEP Formulation\n",
    "M += lpSum([var_acres_planted[\"Wheat\"]]) == 120\n",
    "M += lpSum([var_acres_planted[\"Corn\"]]) == 80\n",
    "M += lpSum([var_acres_planted[\"Beans\"]]) == 300"
   ]
  },
  {
   "cell_type": "code",
   "execution_count": 124,
   "metadata": {},
   "outputs": [
    {
     "name": "stdout",
     "output_type": "stream",
     "text": [
      "Status = Optimal\n",
      "Profit = 107239.999778\n"
     ]
    }
   ],
   "source": [
    "M.solve()\n",
    "print(\"Status = %s\" % LpStatus[M.status])\n",
    "#print(\"%s = %f\" % (order.name, order.varValue))\n",
    "print(\"Profit = %f\" % (M.objective.value()))\n",
    "meanValue_solution_EV = M.objective.value()"
   ]
  },
  {
   "cell_type": "markdown",
   "metadata": {},
   "source": [
    "\n",
    "# VSS = 108390 - 107240 = 1150  (for p =0.3333)"
   ]
  },
  {
   "cell_type": "code",
   "execution_count": 125,
   "metadata": {},
   "outputs": [
    {
     "name": "stdout",
     "output_type": "stream",
     "text": [
      "1150.000004350004\n"
     ]
    }
   ],
   "source": [
    "VSS = stochastic_solution_EV - meanValue_solution_EV\n",
    "print(VSS)"
   ]
  }
 ],
 "metadata": {
  "kernelspec": {
   "display_name": "Python 3",
   "language": "python",
   "name": "python3"
  },
  "language_info": {
   "codemirror_mode": {
    "name": "ipython",
    "version": 3
   },
   "file_extension": ".py",
   "mimetype": "text/x-python",
   "name": "python",
   "nbconvert_exporter": "python",
   "pygments_lexer": "ipython3",
   "version": "3.6.10"
  }
 },
 "nbformat": 4,
 "nbformat_minor": 2
}
