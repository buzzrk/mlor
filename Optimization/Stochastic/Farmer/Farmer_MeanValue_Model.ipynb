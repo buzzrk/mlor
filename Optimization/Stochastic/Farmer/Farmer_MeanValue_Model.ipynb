{
 "cells": [
  {
   "cell_type": "markdown",
   "metadata": {},
   "source": [
    "# Farmer Problem - Planting crops "
   ]
  },
  {
   "cell_type": "code",
   "execution_count": 3,
   "metadata": {},
   "outputs": [],
   "source": [
    "from pulp import *"
   ]
  },
  {
   "cell_type": "code",
   "execution_count": 4,
   "metadata": {},
   "outputs": [],
   "source": [
    "# To show nice looking table of solution\n",
    "from IPython.display import HTML, display\n",
    "\n",
    "def display_table(data):\n",
    "    html = \"<table>\"\n",
    "    for row in data:\n",
    "        html += \"<tr>\"\n",
    "        for field in row:\n",
    "            html += \"<td><h4>%s</h4><td>\"%(field)\n",
    "        html += \"</tr>\"\n",
    "    html += \"</table>\"\n",
    "    display(HTML(html))"
   ]
  },
  {
   "cell_type": "markdown",
   "metadata": {},
   "source": [
    "## Pick one of the yield scenarios and model will find optimal planting, buying and selling"
   ]
  },
  {
   "cell_type": "code",
   "execution_count": 5,
   "metadata": {},
   "outputs": [],
   "source": [
    "SCENARIO = \"AVERAGE\" #AVERAGE, GOOD , BAD"
   ]
  },
  {
   "cell_type": "markdown",
   "metadata": {},
   "source": [
    "# Business Problem as Table \n",
    "\n",
    "### This is base case - will not update if you are updating the numbers "
   ]
  },
  {
   "cell_type": "markdown",
   "metadata": {},
   "source": [
    "### Total acerage = 500\n",
    "\n",
    "|Field|Wheat|Corn|Beans|\n",
    "|-----|-------|------|----------|\n",
    "|Yield T/acre|2.5|3|20|\n",
    "|Planting cost $/acre|150|230|260|\n",
    "|Selling price|170|150|36 (<6000) 10 (>6000)|\n",
    "|Purchase price|238|210|NA|\n",
    "|Farm Needs|200|240|NA|\n"
   ]
  },
  {
   "cell_type": "markdown",
   "metadata": {},
   "source": [
    "### Yields vary based on weather\n",
    "\n",
    "Prob|Yield|Wheat|Corn|Beans|\n",
    "----|-----|-------|------|----------|\n",
    "0.333|Bad |2|2.4|16|\n",
    "0.333|Average|2.5|3|20|\n",
    "0.333|Good|3|3.6|24|"
   ]
  },
  {
   "cell_type": "markdown",
   "metadata": {},
   "source": [
    "## Start defining data needed for problem"
   ]
  },
  {
   "cell_type": "markdown",
   "metadata": {},
   "source": [
    "### Define Items and Farm Acerage"
   ]
  },
  {
   "cell_type": "code",
   "execution_count": 6,
   "metadata": {},
   "outputs": [],
   "source": [
    "total_acres = 500\n",
    "items = [\"Wheat\", \"Corn\",\"Beans\"]\n",
    "purchasable_items = [\"Wheat\", \"Corn\"]                         "
   ]
  },
  {
   "cell_type": "markdown",
   "metadata": {},
   "source": [
    "### Define yields and pick one yield based on scenario we are analyzing"
   ]
  },
  {
   "cell_type": "code",
   "execution_count": 7,
   "metadata": {},
   "outputs": [],
   "source": [
    "yields_by_scenario = {\"BAD\": {\"Wheat\":2,\"Corn\":2.4,\"Beans\":16}, \n",
    "          \"AVERAGE\" : {\"Wheat\":2.5,\"Corn\":3,\"Beans\":20},\n",
    "          \"GOOD\": {\"Wheat\":3,\"Corn\":3.6,\"Beans\":24}}\n",
    "yields = yields_by_scenario[SCENARIO]\n"
   ]
  },
  {
   "cell_type": "markdown",
   "metadata": {},
   "source": [
    "### Define Planting Costs and Market purchase prices  "
   ]
  },
  {
   "cell_type": "code",
   "execution_count": 8,
   "metadata": {},
   "outputs": [],
   "source": [
    "planting_costs = {\"Wheat\":150,\"Corn\":230,\"Beans\":260}  \n",
    "purchase_prices = {\"Wheat\":238,\"Corn\":210,\"Beans\":99999}"
   ]
  },
  {
   "cell_type": "markdown",
   "metadata": {},
   "source": [
    "### Define consumption rules"
   ]
  },
  {
   "cell_type": "code",
   "execution_count": 9,
   "metadata": {},
   "outputs": [],
   "source": [
    "consumption_feed={\"Wheat\":200,\"Corn\":240,\"Beans\":0}          "
   ]
  },
  {
   "cell_type": "markdown",
   "metadata": {},
   "source": [
    "### Define selling prices - note the price difference for beans excess of 6000"
   ]
  },
  {
   "cell_type": "code",
   "execution_count": 10,
   "metadata": {},
   "outputs": [],
   "source": [
    "selling_prices = {\"Wheat\":170,\"Corn\":150,\"Beans\":36}\n",
    "limit_on_beans_regular_price = 6000\n",
    "selling_price_excess_beans = 10 #33 and 35.25 are inflection points to stop producing corn and wheat and buy them"
   ]
  },
  {
   "cell_type": "markdown",
   "metadata": {},
   "source": [
    "# Define Model\n",
    "\n",
    "## Maximize profit (Revenue of selling - planting costs - buying costs)"
   ]
  },
  {
   "cell_type": "code",
   "execution_count": 11,
   "metadata": {},
   "outputs": [],
   "source": [
    "M = LpProblem(\"Farmer\", LpMaximize)"
   ]
  },
  {
   "cell_type": "markdown",
   "metadata": {},
   "source": [
    "# Define Variables"
   ]
  },
  {
   "cell_type": "code",
   "execution_count": 12,
   "metadata": {},
   "outputs": [],
   "source": [
    "var_acres_planted = LpVariable.dicts(\"plant\", items,lowBound=0,cat='Continuous')\n",
    "var_tons_purchased = LpVariable.dicts(\"purchase\", purchasable_items,lowBound=0,cat='Continuous') #no purchase for beans\n",
    "var_tons_sold = LpVariable.dicts(\"sell\", items,lowBound=0,cat='Continuous')\n",
    "var_excess_beans_sold = LpVariable('extra_beans', lowBound=0,cat='Continuous')\n"
   ]
  },
  {
   "cell_type": "markdown",
   "metadata": {},
   "source": [
    "# Define Objective"
   ]
  },
  {
   "cell_type": "code",
   "execution_count": 13,
   "metadata": {},
   "outputs": [],
   "source": [
    "M += lpSum( \n",
    "      [      selling_prices[item]       * var_tons_sold[item]        for item in items ]\n",
    "    + [      selling_price_excess_beans * var_excess_beans_sold]     #excess beans\n",
    "    + [ -1 * planting_costs[item]       * var_acres_planted[item]    for item in items ]  \n",
    "    + [ -1 * purchase_prices[item]      * var_tons_purchased[item]   for item in purchasable_items ]    \n",
    ")\n",
    "\n"
   ]
  },
  {
   "cell_type": "markdown",
   "metadata": {},
   "source": [
    "# Constraints"
   ]
  },
  {
   "cell_type": "code",
   "execution_count": 14,
   "metadata": {},
   "outputs": [],
   "source": [
    "M += lpSum([var_acres_planted[item] for item in items]) <= total_acres\n",
    "\n",
    "for item in purchasable_items:\n",
    "    M += lpSum([yields[item] * var_acres_planted[item]] + [var_tons_purchased[item]] + [-1 * var_tons_sold[item]]) == consumption_feed[item]\n",
    "    \n",
    "for item in list(set(items)-set(purchasable_items)): #beans - constraint needs one more variable var_excess_beans_sold\n",
    "    M += lpSum([yields[item] * var_acres_planted[item]] + [-1 * var_tons_sold[item]] + [-1 * var_excess_beans_sold]) == consumption_feed[item]    \n",
    "    M += lpSum([var_tons_sold[item]]) <= limit_on_beans_regular_price\n",
    "    \n",
    "                        \n",
    "     "
   ]
  },
  {
   "cell_type": "markdown",
   "metadata": {},
   "source": [
    "## Be Careful activating these constraints. "
   ]
  },
  {
   "cell_type": "code",
   "execution_count": 15,
   "metadata": {},
   "outputs": [
    {
     "data": {
      "text/plain": [
       "'\\nM += lpSum([var_acres_planted[\"Wheat\"]]) == 183.33333\\nM += lpSum([var_acres_planted[\"Corn\"]]) == 66.66666\\nM += lpSum([var_acres_planted[\"Beans\"]]) == 250\\n'"
      ]
     },
     "execution_count": 15,
     "metadata": {},
     "output_type": "execute_result"
    }
   ],
   "source": [
    "#Be careful - these are meant to set acres for crops and evaluate profit\n",
    "# The model no longer has freedom to make decisions\n",
    "\"\"\"\n",
    "M += lpSum([var_acres_planted[\"Wheat\"]]) == 183.33333\n",
    "M += lpSum([var_acres_planted[\"Corn\"]]) == 66.66666\n",
    "M += lpSum([var_acres_planted[\"Beans\"]]) == 250\n",
    "\"\"\""
   ]
  },
  {
   "cell_type": "code",
   "execution_count": 16,
   "metadata": {},
   "outputs": [
    {
     "data": {
      "text/plain": [
       "[extra_beans,\n",
       " plant_Beans,\n",
       " plant_Corn,\n",
       " plant_Wheat,\n",
       " purchase_Corn,\n",
       " purchase_Wheat,\n",
       " sell_Beans,\n",
       " sell_Corn,\n",
       " sell_Wheat]"
      ]
     },
     "execution_count": 16,
     "metadata": {},
     "output_type": "execute_result"
    }
   ],
   "source": [
    "M.solve()\n",
    "M.writeLP(\"Farmer_OneScenario_Model.lp\")"
   ]
  },
  {
   "cell_type": "code",
   "execution_count": 17,
   "metadata": {},
   "outputs": [
    {
     "name": "stdout",
     "output_type": "stream",
     "text": [
      "Status = Optimal\n",
      "Profit = 118600.000000\n"
     ]
    }
   ],
   "source": [
    "print(\"Status = %s\" % LpStatus[M.status])\n",
    "#print(\"%s = %f\" % (order.name, order.varValue))\n",
    "print(\"Profit = %f\" % (M.objective.value()))"
   ]
  },
  {
   "cell_type": "code",
   "execution_count": 18,
   "metadata": {
    "scrolled": true
   },
   "outputs": [
    {
     "data": {
      "text/html": [
       "<table><tr><td><h4>Item</h4><td><td><h4>Planted</h4><td><td><h4>Produced</h4><td><td><h4>Purchased</h4><td><td><h4>Sold</h4><td><td><h4>Revenue</h4><td><td><h4>Plant Cost</h4><td><td><h4>Purchase Cost</h4><td><td><h4>Profit</h4><td></tr><tr><td><h4>Wheat</h4><td><td><h4>120.0</h4><td><td><h4>300.0</h4><td><td><h4>0.0</h4><td><td><h4>100.0</h4><td><td><h4>17000.0</h4><td><td><h4>18000.0</h4><td><td><h4>0.0</h4><td><td><h4>-1000.0</h4><td></tr><tr><td><h4>Corn</h4><td><td><h4>80.0</h4><td><td><h4>240.0</h4><td><td><h4>0.0</h4><td><td><h4>0.0</h4><td><td><h4>0.0</h4><td><td><h4>18400.0</h4><td><td><h4>0.0</h4><td><td><h4>-18400.0</h4><td></tr><tr><td><h4>Beans</h4><td><td><h4>300.0</h4><td><td><h4>6000.0</h4><td><td><h4>0.0</h4><td><td><h4>6000.0</h4><td><td><h4>216000.0</h4><td><td><h4>78000.0</h4><td><td><h4>0.0</h4><td><td><h4>138000.0</h4><td></tr><tr><td><h4></h4><td><td><h4></h4><td><td><h4></h4><td><td><h4></h4><td><td><h4></h4><td><td><h4></h4><td><td><h4></h4><td><td><h4></h4><td><td><h4></h4><td></tr><tr><td><h4>Total</h4><td><td><h4>-</h4><td><td><h4>500.0</h4><td><td><h4></h4><td><td><h4></h4><td><td><h4>233000.0</h4><td><td><h4></h4><td><td><h4></h4><td><td><h4>118600.0</h4><td></tr></table>"
      ],
      "text/plain": [
       "<IPython.core.display.HTML object>"
      ]
     },
     "metadata": {},
     "output_type": "display_data"
    }
   ],
   "source": [
    "t = []\n",
    "Total_Planted = 0\n",
    "Total_Revenue = 0\n",
    "Total_Profit = 0\n",
    "\n",
    "t.append([\"Item\",\"Planted\",\"Produced\", \"Purchased\", \"Sold\",\"Revenue\",\"Plant Cost\",\"Purchase Cost\",\"Profit\"])    \n",
    "for item in items:\n",
    "    purchased = 0.0\n",
    "    if item in purchasable_items:\n",
    "        purchased = var_tons_purchased[item].varValue\n",
    "    \n",
    "    planted = var_acres_planted[item].varValue\n",
    "    planting_cost = planted* planting_costs[item]\n",
    "    produced = yields[item] * var_acres_planted[item].varValue\n",
    "    sold = var_tons_sold[item].varValue\n",
    "    revenue = selling_prices[item]*sold\n",
    "    if item==\"Beans\":\n",
    "        sold += var_excess_beans_sold.varValue\n",
    "        revenue += selling_price_excess_beans*var_excess_beans_sold.varValue\n",
    "    purchase_cost = purchase_prices[item]*purchased\n",
    "    profit = revenue - planting_cost - purchase_cost\n",
    "    \n",
    "    \n",
    "    t.append([item, planted, produced, purchased, sold, revenue, planting_cost, purchase_cost, profit])\n",
    "    Total_Planted += planted\n",
    "    Total_Revenue += revenue\n",
    "    Total_Profit += profit\n",
    "    \n",
    "t.append([\"\",\"\",\"\", \"\", \"\",\"\",\"\",\"\",\"\"])    \n",
    "\n",
    "t.append([\"Total\",\"-\",Total_Planted, \"\", \"\",Total_Revenue,\"\",\"\",Total_Profit])    \n",
    "\n",
    "    \n",
    "display_table(t)"
   ]
  },
  {
   "cell_type": "markdown",
   "metadata": {},
   "source": [
    "## To be added - Sensitivity Analysis on limits, buying and selling prices"
   ]
  },
  {
   "cell_type": "code",
   "execution_count": 19,
   "metadata": {},
   "outputs": [],
   "source": [
    "#o = [{'name':name,'shadow price':c.pi, 'slack': c.slack} for name, c in M.constraints.items()]"
   ]
  },
  {
   "cell_type": "code",
   "execution_count": 20,
   "metadata": {},
   "outputs": [],
   "source": [
    "savings_avoid_purchase = {item: yields[item]*purchase_prices[item]- planting_costs[item] for item in purchasable_items}\n",
    "profit_acre = {item: yields[item]*selling_prices[item]- planting_costs[item] for item in items}\n",
    "profit_from_excess_beans_per_acre = yields[\"Beans\"]*selling_price_excess_beans- planting_costs[\"Beans\"] \n"
   ]
  },
  {
   "cell_type": "code",
   "execution_count": 21,
   "metadata": {},
   "outputs": [
    {
     "name": "stdout",
     "output_type": "stream",
     "text": [
      "Savings from producing vs purchasing per acre:\n",
      "{'Wheat': 445.0, 'Corn': 400}\n",
      "Profit per acre:\n",
      "{'Wheat': 275.0, 'Corn': 220, 'Beans': 460}\n",
      " profit_from_excess_beans_per_acre -60\n"
     ]
    }
   ],
   "source": [
    "# What if beans sales price decreases\n",
    "# What if beans excess sales price increases\n",
    "#Can you compute following variables to see if you can guess the optimal solution\n",
    "#Hint: Sort the numbers below and try greedy approach\n",
    "print(\"Savings from producing vs purchasing per acre:\")\n",
    "print(savings_avoid_purchase)\n",
    "print(\"Profit per acre:\")\n",
    "print(profit_acre)\n",
    "print(f\" profit_from_excess_beans_per_acre {profit_from_excess_beans_per_acre}\")"
   ]
  },
  {
   "cell_type": "code",
   "execution_count": null,
   "metadata": {},
   "outputs": [],
   "source": []
  }
 ],
 "metadata": {
  "kernelspec": {
   "display_name": "Python 3",
   "language": "python",
   "name": "python3"
  },
  "language_info": {
   "codemirror_mode": {
    "name": "ipython",
    "version": 3
   },
   "file_extension": ".py",
   "mimetype": "text/x-python",
   "name": "python",
   "nbconvert_exporter": "python",
   "pygments_lexer": "ipython3",
   "version": "3.6.10"
  }
 },
 "nbformat": 4,
 "nbformat_minor": 2
}
